{
 "cells": [
  {
   "cell_type": "code",
   "execution_count": null,
   "id": "e0c117bc",
   "metadata": {},
   "outputs": [],
   "source": [
    "# 1. Consider the hepatitis/ pima-indians-diabetes csv file, perform the following date pre-processing.\n",
    "# 1. Load data in Pandas.\n",
    "# 2. Drop columns that aren’t useful.\n",
    "# 3. Drop rows with missing values.\n",
    "# 4. Create dummy variables.\n",
    "# 5. Take care of missing data.\n",
    "# 6. Convert the data frame to NumPy.\n",
    "# 7. Divide the data set into training data and test data."
   ]
  },
  {
   "cell_type": "code",
   "execution_count": 54,
   "id": "53be0f01",
   "metadata": {},
   "outputs": [],
   "source": [
    "import pandas as pd\n",
    "import numpy as np\n",
    "import matplotlib.pyplot as plt"
   ]
  },
  {
   "cell_type": "code",
   "execution_count": 25,
   "id": "2f7d0e26",
   "metadata": {},
   "outputs": [],
   "source": [
    "df=pd.read_csv('hepatitis_csv.csv')\n",
    "df.isnull().mean()\n",
    "df = df.replace({True: 1, False: 0, 'male':1, 'female':0, 'live':1,'die':0})"
   ]
  },
  {
   "cell_type": "code",
   "execution_count": 26,
   "id": "6b9b7269",
   "metadata": {},
   "outputs": [
    {
     "data": {
      "text/html": [
       "<div>\n",
       "<style scoped>\n",
       "    .dataframe tbody tr th:only-of-type {\n",
       "        vertical-align: middle;\n",
       "    }\n",
       "\n",
       "    .dataframe tbody tr th {\n",
       "        vertical-align: top;\n",
       "    }\n",
       "\n",
       "    .dataframe thead th {\n",
       "        text-align: right;\n",
       "    }\n",
       "</style>\n",
       "<table border=\"1\" class=\"dataframe\">\n",
       "  <thead>\n",
       "    <tr style=\"text-align: right;\">\n",
       "      <th></th>\n",
       "      <th>age</th>\n",
       "      <th>sex</th>\n",
       "      <th>steroid</th>\n",
       "      <th>antivirals</th>\n",
       "      <th>fatigue</th>\n",
       "      <th>malaise</th>\n",
       "      <th>anorexia</th>\n",
       "      <th>liver_big</th>\n",
       "      <th>liver_firm</th>\n",
       "      <th>spleen_palpable</th>\n",
       "      <th>spiders</th>\n",
       "      <th>ascites</th>\n",
       "      <th>varices</th>\n",
       "      <th>bilirubin</th>\n",
       "      <th>alk_phosphate</th>\n",
       "      <th>sgot</th>\n",
       "      <th>albumin</th>\n",
       "      <th>histology</th>\n",
       "      <th>class</th>\n",
       "    </tr>\n",
       "  </thead>\n",
       "  <tbody>\n",
       "    <tr>\n",
       "      <th>0</th>\n",
       "      <td>30</td>\n",
       "      <td>1</td>\n",
       "      <td>0.0</td>\n",
       "      <td>0</td>\n",
       "      <td>0.0</td>\n",
       "      <td>0.0</td>\n",
       "      <td>0.0</td>\n",
       "      <td>0.0</td>\n",
       "      <td>0.0</td>\n",
       "      <td>0.0</td>\n",
       "      <td>0.0</td>\n",
       "      <td>0.0</td>\n",
       "      <td>0.0</td>\n",
       "      <td>1.0</td>\n",
       "      <td>85.0</td>\n",
       "      <td>18.0</td>\n",
       "      <td>4.0</td>\n",
       "      <td>0</td>\n",
       "      <td>1</td>\n",
       "    </tr>\n",
       "    <tr>\n",
       "      <th>1</th>\n",
       "      <td>50</td>\n",
       "      <td>0</td>\n",
       "      <td>0.0</td>\n",
       "      <td>0</td>\n",
       "      <td>1.0</td>\n",
       "      <td>0.0</td>\n",
       "      <td>0.0</td>\n",
       "      <td>0.0</td>\n",
       "      <td>0.0</td>\n",
       "      <td>0.0</td>\n",
       "      <td>0.0</td>\n",
       "      <td>0.0</td>\n",
       "      <td>0.0</td>\n",
       "      <td>0.9</td>\n",
       "      <td>135.0</td>\n",
       "      <td>42.0</td>\n",
       "      <td>3.5</td>\n",
       "      <td>0</td>\n",
       "      <td>1</td>\n",
       "    </tr>\n",
       "    <tr>\n",
       "      <th>2</th>\n",
       "      <td>78</td>\n",
       "      <td>0</td>\n",
       "      <td>1.0</td>\n",
       "      <td>0</td>\n",
       "      <td>1.0</td>\n",
       "      <td>0.0</td>\n",
       "      <td>0.0</td>\n",
       "      <td>1.0</td>\n",
       "      <td>0.0</td>\n",
       "      <td>0.0</td>\n",
       "      <td>0.0</td>\n",
       "      <td>0.0</td>\n",
       "      <td>0.0</td>\n",
       "      <td>0.7</td>\n",
       "      <td>96.0</td>\n",
       "      <td>32.0</td>\n",
       "      <td>4.0</td>\n",
       "      <td>0</td>\n",
       "      <td>1</td>\n",
       "    </tr>\n",
       "    <tr>\n",
       "      <th>3</th>\n",
       "      <td>31</td>\n",
       "      <td>0</td>\n",
       "      <td>NaN</td>\n",
       "      <td>1</td>\n",
       "      <td>0.0</td>\n",
       "      <td>0.0</td>\n",
       "      <td>0.0</td>\n",
       "      <td>1.0</td>\n",
       "      <td>0.0</td>\n",
       "      <td>0.0</td>\n",
       "      <td>0.0</td>\n",
       "      <td>0.0</td>\n",
       "      <td>0.0</td>\n",
       "      <td>0.7</td>\n",
       "      <td>46.0</td>\n",
       "      <td>52.0</td>\n",
       "      <td>4.0</td>\n",
       "      <td>0</td>\n",
       "      <td>1</td>\n",
       "    </tr>\n",
       "    <tr>\n",
       "      <th>4</th>\n",
       "      <td>34</td>\n",
       "      <td>0</td>\n",
       "      <td>1.0</td>\n",
       "      <td>0</td>\n",
       "      <td>0.0</td>\n",
       "      <td>0.0</td>\n",
       "      <td>0.0</td>\n",
       "      <td>1.0</td>\n",
       "      <td>0.0</td>\n",
       "      <td>0.0</td>\n",
       "      <td>0.0</td>\n",
       "      <td>0.0</td>\n",
       "      <td>0.0</td>\n",
       "      <td>1.0</td>\n",
       "      <td>NaN</td>\n",
       "      <td>200.0</td>\n",
       "      <td>4.0</td>\n",
       "      <td>0</td>\n",
       "      <td>1</td>\n",
       "    </tr>\n",
       "    <tr>\n",
       "      <th>...</th>\n",
       "      <td>...</td>\n",
       "      <td>...</td>\n",
       "      <td>...</td>\n",
       "      <td>...</td>\n",
       "      <td>...</td>\n",
       "      <td>...</td>\n",
       "      <td>...</td>\n",
       "      <td>...</td>\n",
       "      <td>...</td>\n",
       "      <td>...</td>\n",
       "      <td>...</td>\n",
       "      <td>...</td>\n",
       "      <td>...</td>\n",
       "      <td>...</td>\n",
       "      <td>...</td>\n",
       "      <td>...</td>\n",
       "      <td>...</td>\n",
       "      <td>...</td>\n",
       "      <td>...</td>\n",
       "    </tr>\n",
       "    <tr>\n",
       "      <th>150</th>\n",
       "      <td>46</td>\n",
       "      <td>0</td>\n",
       "      <td>1.0</td>\n",
       "      <td>0</td>\n",
       "      <td>1.0</td>\n",
       "      <td>1.0</td>\n",
       "      <td>1.0</td>\n",
       "      <td>1.0</td>\n",
       "      <td>0.0</td>\n",
       "      <td>0.0</td>\n",
       "      <td>1.0</td>\n",
       "      <td>1.0</td>\n",
       "      <td>1.0</td>\n",
       "      <td>7.6</td>\n",
       "      <td>NaN</td>\n",
       "      <td>242.0</td>\n",
       "      <td>3.3</td>\n",
       "      <td>1</td>\n",
       "      <td>0</td>\n",
       "    </tr>\n",
       "    <tr>\n",
       "      <th>151</th>\n",
       "      <td>44</td>\n",
       "      <td>0</td>\n",
       "      <td>1.0</td>\n",
       "      <td>0</td>\n",
       "      <td>1.0</td>\n",
       "      <td>0.0</td>\n",
       "      <td>0.0</td>\n",
       "      <td>1.0</td>\n",
       "      <td>1.0</td>\n",
       "      <td>0.0</td>\n",
       "      <td>0.0</td>\n",
       "      <td>0.0</td>\n",
       "      <td>0.0</td>\n",
       "      <td>0.9</td>\n",
       "      <td>126.0</td>\n",
       "      <td>142.0</td>\n",
       "      <td>4.3</td>\n",
       "      <td>1</td>\n",
       "      <td>1</td>\n",
       "    </tr>\n",
       "    <tr>\n",
       "      <th>152</th>\n",
       "      <td>61</td>\n",
       "      <td>0</td>\n",
       "      <td>0.0</td>\n",
       "      <td>0</td>\n",
       "      <td>1.0</td>\n",
       "      <td>1.0</td>\n",
       "      <td>0.0</td>\n",
       "      <td>0.0</td>\n",
       "      <td>1.0</td>\n",
       "      <td>0.0</td>\n",
       "      <td>1.0</td>\n",
       "      <td>0.0</td>\n",
       "      <td>0.0</td>\n",
       "      <td>0.8</td>\n",
       "      <td>75.0</td>\n",
       "      <td>20.0</td>\n",
       "      <td>4.1</td>\n",
       "      <td>1</td>\n",
       "      <td>1</td>\n",
       "    </tr>\n",
       "    <tr>\n",
       "      <th>153</th>\n",
       "      <td>53</td>\n",
       "      <td>1</td>\n",
       "      <td>0.0</td>\n",
       "      <td>0</td>\n",
       "      <td>1.0</td>\n",
       "      <td>0.0</td>\n",
       "      <td>0.0</td>\n",
       "      <td>1.0</td>\n",
       "      <td>0.0</td>\n",
       "      <td>1.0</td>\n",
       "      <td>1.0</td>\n",
       "      <td>0.0</td>\n",
       "      <td>1.0</td>\n",
       "      <td>1.5</td>\n",
       "      <td>81.0</td>\n",
       "      <td>19.0</td>\n",
       "      <td>4.1</td>\n",
       "      <td>1</td>\n",
       "      <td>1</td>\n",
       "    </tr>\n",
       "    <tr>\n",
       "      <th>154</th>\n",
       "      <td>43</td>\n",
       "      <td>0</td>\n",
       "      <td>1.0</td>\n",
       "      <td>0</td>\n",
       "      <td>1.0</td>\n",
       "      <td>0.0</td>\n",
       "      <td>0.0</td>\n",
       "      <td>1.0</td>\n",
       "      <td>0.0</td>\n",
       "      <td>1.0</td>\n",
       "      <td>1.0</td>\n",
       "      <td>1.0</td>\n",
       "      <td>0.0</td>\n",
       "      <td>1.2</td>\n",
       "      <td>100.0</td>\n",
       "      <td>19.0</td>\n",
       "      <td>3.1</td>\n",
       "      <td>1</td>\n",
       "      <td>0</td>\n",
       "    </tr>\n",
       "  </tbody>\n",
       "</table>\n",
       "<p>155 rows × 19 columns</p>\n",
       "</div>"
      ],
      "text/plain": [
       "     age  sex  steroid  antivirals  fatigue  malaise  anorexia  liver_big  \\\n",
       "0     30    1      0.0           0      0.0      0.0       0.0        0.0   \n",
       "1     50    0      0.0           0      1.0      0.0       0.0        0.0   \n",
       "2     78    0      1.0           0      1.0      0.0       0.0        1.0   \n",
       "3     31    0      NaN           1      0.0      0.0       0.0        1.0   \n",
       "4     34    0      1.0           0      0.0      0.0       0.0        1.0   \n",
       "..   ...  ...      ...         ...      ...      ...       ...        ...   \n",
       "150   46    0      1.0           0      1.0      1.0       1.0        1.0   \n",
       "151   44    0      1.0           0      1.0      0.0       0.0        1.0   \n",
       "152   61    0      0.0           0      1.0      1.0       0.0        0.0   \n",
       "153   53    1      0.0           0      1.0      0.0       0.0        1.0   \n",
       "154   43    0      1.0           0      1.0      0.0       0.0        1.0   \n",
       "\n",
       "     liver_firm  spleen_palpable  spiders  ascites  varices  bilirubin  \\\n",
       "0           0.0              0.0      0.0      0.0      0.0        1.0   \n",
       "1           0.0              0.0      0.0      0.0      0.0        0.9   \n",
       "2           0.0              0.0      0.0      0.0      0.0        0.7   \n",
       "3           0.0              0.0      0.0      0.0      0.0        0.7   \n",
       "4           0.0              0.0      0.0      0.0      0.0        1.0   \n",
       "..          ...              ...      ...      ...      ...        ...   \n",
       "150         0.0              0.0      1.0      1.0      1.0        7.6   \n",
       "151         1.0              0.0      0.0      0.0      0.0        0.9   \n",
       "152         1.0              0.0      1.0      0.0      0.0        0.8   \n",
       "153         0.0              1.0      1.0      0.0      1.0        1.5   \n",
       "154         0.0              1.0      1.0      1.0      0.0        1.2   \n",
       "\n",
       "     alk_phosphate   sgot  albumin  histology  class  \n",
       "0             85.0   18.0      4.0          0      1  \n",
       "1            135.0   42.0      3.5          0      1  \n",
       "2             96.0   32.0      4.0          0      1  \n",
       "3             46.0   52.0      4.0          0      1  \n",
       "4              NaN  200.0      4.0          0      1  \n",
       "..             ...    ...      ...        ...    ...  \n",
       "150            NaN  242.0      3.3          1      0  \n",
       "151          126.0  142.0      4.3          1      1  \n",
       "152           75.0   20.0      4.1          1      1  \n",
       "153           81.0   19.0      4.1          1      1  \n",
       "154          100.0   19.0      3.1          1      0  \n",
       "\n",
       "[155 rows x 19 columns]"
      ]
     },
     "execution_count": 26,
     "metadata": {},
     "output_type": "execute_result"
    }
   ],
   "source": [
    "threshold=0.3\n",
    "df = df[df.columns[df.isnull().mean() < threshold]]\n",
    "df=df.dropna()\n",
    "df"
   ]
  },
  {
   "cell_type": "code",
   "execution_count": 45,
   "id": "48e6862a",
   "metadata": {
    "scrolled": true
   },
   "outputs": [
    {
     "data": {
      "text/plain": [
       "array([[30. ,  1. ,  0. , ...,  4. ,  0. ,  1. ],\n",
       "       [50. ,  0. ,  0. , ...,  3.5,  0. ,  1. ],\n",
       "       [78. ,  0. ,  1. , ...,  4. ,  0. ,  1. ],\n",
       "       ...,\n",
       "       [61. ,  0. ,  0. , ...,  4.1,  1. ,  1. ],\n",
       "       [53. ,  1. ,  0. , ...,  4.1,  1. ,  1. ],\n",
       "       [43. ,  0. ,  1. , ...,  3.1,  1. ,  0. ]])"
      ]
     },
     "execution_count": 45,
     "metadata": {},
     "output_type": "execute_result"
    }
   ],
   "source": [
    "array=df.values\n",
    "array"
   ]
  },
  {
   "cell_type": "code",
   "execution_count": 46,
   "id": "26574d8c",
   "metadata": {},
   "outputs": [
    {
     "name": "stdout",
     "output_type": "stream",
     "text": [
      "[[39.   0.   0.  ...  4.   0.   1. ]\n",
      " [28.   0.   0.  ...  4.   0.   1. ]\n",
      " [39.   0.   0.  ...  4.4  0.   1. ]\n",
      " ...\n",
      " [27.   0.   0.  ...  3.   1.   1. ]\n",
      " [28.   0.   1.  ...  4.9  0.   1. ]\n",
      " [44.   0.   1.  ...  4.3  1.   1. ]]\n"
     ]
    }
   ],
   "source": [
    "split_ratio = 0.7\n",
    "\n",
    "np.random.seed(42)  \n",
    "shuffled_indices = np.random.permutation(len(array))\n",
    "shuffled_array = array[shuffled_indices]\n",
    "\n",
    "split_index = int(len(shuffled_array) * split_ratio)\n",
    "\n",
    "train_array = shuffled_array[:split_index]\n",
    "test_array = shuffled_array[split_index:]\n",
    "print(train_array)"
   ]
  },
  {
   "cell_type": "code",
   "execution_count": null,
   "id": "a24830d0",
   "metadata": {},
   "outputs": [],
   "source": []
  },
  {
   "cell_type": "code",
   "execution_count": null,
   "id": "ad99ecf5",
   "metadata": {},
   "outputs": [],
   "source": [
    "# 2. a. Construct a CSV file with the following attributes:\n",
    "# Study time in hours of ML lab course (x)\n",
    "# Score out of 10 (y)\n",
    "# The dataset should contain 10 rows.\n",
    "# b. Create a regression model and display the following:\n",
    "# Coefficients: B0 (intercept) and B1 (slope)\n",
    "# RMSE (Root Mean Square Error)\n",
    "# Predicted responses\n",
    "# c. Create a scatter plot of the data points in red color and plot the graph of x vs. predicted y in blue color.\n",
    "# d. Implement the model using two methods:\n",
    "# Pedhazur formula (intuitive)\n",
    "# Calculus method (partial derivatives, refer to class notes)\n",
    "# e. Compare the coefficients obtained using both methods and compare them with the analytical solution.\n",
    "# f. Test your model to predict the score obtained when the study time of a student is 10 hours.\n",
    "# Note: Do not use scikit-learn."
   ]
  },
  {
   "cell_type": "code",
   "execution_count": 133,
   "id": "51eaafad",
   "metadata": {},
   "outputs": [
    {
     "data": {
      "text/html": [
       "<div>\n",
       "<style scoped>\n",
       "    .dataframe tbody tr th:only-of-type {\n",
       "        vertical-align: middle;\n",
       "    }\n",
       "\n",
       "    .dataframe tbody tr th {\n",
       "        vertical-align: top;\n",
       "    }\n",
       "\n",
       "    .dataframe thead th {\n",
       "        text-align: right;\n",
       "    }\n",
       "</style>\n",
       "<table border=\"1\" class=\"dataframe\">\n",
       "  <thead>\n",
       "    <tr style=\"text-align: right;\">\n",
       "      <th></th>\n",
       "      <th>study_time</th>\n",
       "      <th>score</th>\n",
       "    </tr>\n",
       "  </thead>\n",
       "  <tbody>\n",
       "    <tr>\n",
       "      <th>0</th>\n",
       "      <td>1</td>\n",
       "      <td>0.0</td>\n",
       "    </tr>\n",
       "    <tr>\n",
       "      <th>1</th>\n",
       "      <td>2</td>\n",
       "      <td>1.0</td>\n",
       "    </tr>\n",
       "    <tr>\n",
       "      <th>2</th>\n",
       "      <td>3</td>\n",
       "      <td>2.0</td>\n",
       "    </tr>\n",
       "    <tr>\n",
       "      <th>3</th>\n",
       "      <td>4</td>\n",
       "      <td>3.0</td>\n",
       "    </tr>\n",
       "    <tr>\n",
       "      <th>4</th>\n",
       "      <td>5</td>\n",
       "      <td>2.0</td>\n",
       "    </tr>\n",
       "    <tr>\n",
       "      <th>5</th>\n",
       "      <td>6</td>\n",
       "      <td>2.0</td>\n",
       "    </tr>\n",
       "    <tr>\n",
       "      <th>6</th>\n",
       "      <td>7</td>\n",
       "      <td>3.0</td>\n",
       "    </tr>\n",
       "    <tr>\n",
       "      <th>7</th>\n",
       "      <td>8</td>\n",
       "      <td>3.0</td>\n",
       "    </tr>\n",
       "    <tr>\n",
       "      <th>8</th>\n",
       "      <td>9</td>\n",
       "      <td>2.0</td>\n",
       "    </tr>\n",
       "    <tr>\n",
       "      <th>9</th>\n",
       "      <td>10</td>\n",
       "      <td>6.0</td>\n",
       "    </tr>\n",
       "    <tr>\n",
       "      <th>10</th>\n",
       "      <td>11</td>\n",
       "      <td>6.0</td>\n",
       "    </tr>\n",
       "    <tr>\n",
       "      <th>11</th>\n",
       "      <td>12</td>\n",
       "      <td>4.0</td>\n",
       "    </tr>\n",
       "    <tr>\n",
       "      <th>12</th>\n",
       "      <td>13</td>\n",
       "      <td>6.0</td>\n",
       "    </tr>\n",
       "    <tr>\n",
       "      <th>13</th>\n",
       "      <td>14</td>\n",
       "      <td>6.0</td>\n",
       "    </tr>\n",
       "    <tr>\n",
       "      <th>14</th>\n",
       "      <td>15</td>\n",
       "      <td>6.0</td>\n",
       "    </tr>\n",
       "  </tbody>\n",
       "</table>\n",
       "</div>"
      ],
      "text/plain": [
       "    study_time  score\n",
       "0            1    0.0\n",
       "1            2    1.0\n",
       "2            3    2.0\n",
       "3            4    3.0\n",
       "4            5    2.0\n",
       "5            6    2.0\n",
       "6            7    3.0\n",
       "7            8    3.0\n",
       "8            9    2.0\n",
       "9           10    6.0\n",
       "10          11    6.0\n",
       "11          12    4.0\n",
       "12          13    6.0\n",
       "13          14    6.0\n",
       "14          15    6.0"
      ]
     },
     "execution_count": 133,
     "metadata": {},
     "output_type": "execute_result"
    }
   ],
   "source": [
    "np.random.seed(42)\n",
    "study_time_hours = np.arange(1, 16)\n",
    "scores = np.clip(study_time_hours * np.random.uniform(0.4, 0.6) + np.random.normal(0, 1, 15), 0, 10).round()\n",
    "data = {\n",
    "    'study_time': study_time_hours,\n",
    "    'score': scores\n",
    "}\n",
    "\n",
    "df = pd.DataFrame(data)\n",
    "df"
   ]
  },
  {
   "cell_type": "code",
   "execution_count": 134,
   "id": "846d1c3b",
   "metadata": {},
   "outputs": [],
   "source": [
    "X = df['study_time'].values\n",
    "y = df['score'].values\n",
    "split_ratio = 0.7\n",
    "split_point = int(split_ratio * len(X))\n",
    "\n",
    "indices = np.arange(len(X))\n",
    "np.random.seed(42)  \n",
    "np.random.shuffle(indices)\n",
    "\n",
    "X_train = X[indices]\n",
    "y_train = y[indices]\n",
    "\n",
    "# X_train = X_shuffled[:split_point]\n",
    "# y_train = y_shuffled[:split_point]\n",
    "# X_test = X_shuffled[split_point:]\n",
    "# y_test = y_shuffled[split_point:]"
   ]
  },
  {
   "cell_type": "code",
   "execution_count": 135,
   "id": "3fae06eb",
   "metadata": {
    "scrolled": true
   },
   "outputs": [
    {
     "name": "stdout",
     "output_type": "stream",
     "text": [
      "Intercept (B0): 0.18095238095238164\n",
      "Slope (B1): 0.41071428571428564\n",
      "Root Mean Squared Error (RMSE) on Test Data: 0.9129143981845715\n"
     ]
    },
    {
     "data": {
      "image/png": "[encoded data removed]",
      "text/plain": [
       "<Figure size 640x480 with 1 Axes>"
      ]
     },
     "metadata": {},
     "output_type": "display_data"
    }
   ],
   "source": [
    "X_mean = np.mean(X)\n",
    "y_mean = np.mean(y)\n",
    "\n",
    "numerator = np.sum((X - X_mean) * (y - y_mean))\n",
    "denominator = np.sum((X - X_mean) ** 2)\n",
    "beta1 = numerator / denominator\n",
    "beta0 = y_mean - beta1 * X_mean\n",
    "\n",
    "print(f\"Intercept (B0): {beta0}\")\n",
    "print(f\"Slope (B1): {beta1}\")\n",
    "\n",
    "y_pred = beta0 + beta1 * X\n",
    "\n",
    "rmse = np.sqrt(np.mean((y - y_pred) ** 2))\n",
    "print(f\"Root Mean Squared Error (RMSE) on Test Data: {rmse}\")\n",
    "\n",
    "plt.scatter(X, y, color='blue', label='Training Data Points')\n",
    "plt.plot(X, y_pred, color='red', label='Regression Line (Training Data)')\n",
    "plt.xlabel('study_time')\n",
    "plt.ylabel('score')\n",
    "plt.title('Simple Linear Regression')\n",
    "plt.legend()\n",
    "plt.show()"
   ]
  },
  {
   "cell_type": "code",
   "execution_count": 136,
   "id": "a4bdb25d",
   "metadata": {},
   "outputs": [
    {
     "name": "stdout",
     "output_type": "stream",
     "text": [
      "[[15, 120], [120, 1240]]\n",
      "[[52.0], [531.0]]\n"
     ]
    }
   ],
   "source": [
    "#calculus method\n",
    "A=[[len(X_train), np.sum(X_train)],[np.sum(X_train), np.sum(X_train**2)]]\n",
    "B=[[np.sum(y_train)], [np.sum(y_train*X_train)]]\n",
    "print(A)\n",
    "print(B)"
   ]
  },
  {
   "cell_type": "code",
   "execution_count": null,
   "id": "37af64b0",
   "metadata": {},
   "outputs": [],
   "source": []
  },
  {
   "cell_type": "code",
   "execution_count": 137,
   "id": "e1cd01a6",
   "metadata": {
    "scrolled": true
   },
   "outputs": [
    {
     "name": "stdout",
     "output_type": "stream",
     "text": [
      "Intercept (B0): [0.18095238]\n",
      "Slope (B1): [0.41071429]\n"
     ]
    }
   ],
   "source": [
    "b0,b1=np.linalg.inv(A).dot(B)\n",
    "print(f\"Intercept (B0): {b0}\")\n",
    "print(f\"Slope (B1): {b1}\")"
   ]
  },
  {
   "cell_type": "code",
   "execution_count": 138,
   "id": "8faa9e5f",
   "metadata": {},
   "outputs": [
    {
     "name": "stdout",
     "output_type": "stream",
     "text": [
      "[4.28809524]\n"
     ]
    }
   ],
   "source": [
    "#testing\n",
    "ans=b1*10+b0\n",
    "print(ans)"
   ]
  },
  {
   "cell_type": "code",
   "execution_count": null,
   "id": "ab4642b3",
   "metadata": {},
   "outputs": [],
   "source": [
    "# ADD1. a. Consider the hepatitis/diabetes CSV file. Create a regression model and display the following:\n",
    "# Coefficients: B0 (intercept) and B1 (slope)\n",
    "# RMSE (Root Mean Square Error)\n",
    "# Predicted responses\n",
    "# b. Create a scatter plot of the data points in red color and plot the graph of x vs. predicted y in blue color.\n",
    "# c. Implement the model using two methods:\n",
    "# 1. Pedhazur formula (intuitive)\n",
    "# 2. Calculus method (partial derivatives, refer to class notes)\n",
    "# d. Compare the coefficients obtained using both methods. For a given data point, check the predicted y\n",
    "# value.\n",
    "# Note: Do not use scikit-learn."
   ]
  },
  {
   "cell_type": "code",
   "execution_count": 126,
   "id": "59c322f8",
   "metadata": {},
   "outputs": [],
   "source": [
    "df=pd.read_csv('hepatitis_csv.csv')\n",
    "df.isnull().mean()\n",
    "df = df.replace({True: 1, False: 0, 'male':1, 'female':0, 'live':1,'die':0})\n",
    "threshold=0.3\n",
    "df = df[df.columns[df.isnull().mean() < threshold]]\n",
    "df=df.dropna()\n"
   ]
  },
  {
   "cell_type": "code",
   "execution_count": 127,
   "id": "ffaa9652",
   "metadata": {},
   "outputs": [
    {
     "name": "stdout",
     "output_type": "stream",
     "text": [
      "112\n",
      "112\n"
     ]
    }
   ],
   "source": [
    "X=df['age'].values\n",
    "y=df['bilirubin'].values\n",
    "print(len(X))\n",
    "print(len(y))"
   ]
  },
  {
   "cell_type": "code",
   "execution_count": 128,
   "id": "ebc00b08",
   "metadata": {
    "scrolled": true
   },
   "outputs": [
    {
     "name": "stdout",
     "output_type": "stream",
     "text": [
      "Intercept (B0): 0.852483355308322\n",
      "Slope (B1): 0.010191127916226258\n",
      "Root Mean Squared Error (RMSE) on Test Data: 0.8736325389795313\n"
     ]
    },
    {
     "data": {
      "image/png": "[encoded data removed]",
      "text/plain": [
       "<Figure size 640x480 with 1 Axes>"
      ]
     },
     "metadata": {},
     "output_type": "display_data"
    }
   ],
   "source": [
    "X_mean = np.mean(X)\n",
    "y_mean = np.mean(y)\n",
    "\n",
    "numerator = np.sum((X - X_mean) * (y - y_mean))\n",
    "denominator = np.sum((X - X_mean) ** 2)\n",
    "beta1 = numerator / denominator\n",
    "beta0 = y_mean - beta1 * X_mean\n",
    "\n",
    "print(f\"Intercept (B0): {beta0}\")\n",
    "print(f\"Slope (B1): {beta1}\")\n",
    "\n",
    "y_pred = beta0 + beta1 * X\n",
    "\n",
    "rmse = np.sqrt(np.mean((y - y_pred) ** 2))\n",
    "print(f\"Root Mean Squared Error (RMSE) on Test Data: {rmse}\")\n",
    "\n",
    "plt.scatter(X, y, color='blue', label='Training Data Points')\n",
    "plt.plot(X, y_pred, color='red', label='Regression Line (Training Data)')\n",
    "plt.xlabel('study_time')\n",
    "plt.ylabel('score')\n",
    "plt.title('Simple Linear Regression')\n",
    "plt.legend()\n",
    "plt.show()"
   ]
  },
  {
   "cell_type": "code",
   "execution_count": 129,
   "id": "3adb442a",
   "metadata": {},
   "outputs": [
    {
     "name": "stdout",
     "output_type": "stream",
     "text": [
      "[[112, 4614], [4614, 206468]]\n",
      "[[142.5], [6037.5]]\n"
     ]
    }
   ],
   "source": [
    "#calculus method\n",
    "A=[[len(X), np.sum(X)],[np.sum(X), np.sum(X**2)]]\n",
    "B=[[np.sum(y)], [np.sum(y*X)]]\n",
    "print(A)\n",
    "print(B)"
   ]
  },
  {
   "cell_type": "code",
   "execution_count": 130,
   "id": "67876bc0",
   "metadata": {},
   "outputs": [
    {
     "name": "stdout",
     "output_type": "stream",
     "text": [
      "Intercept (B0): [0.85248336]\n",
      "Slope (B1): [0.01019113]\n"
     ]
    }
   ],
   "source": [
    "b0,b1=np.linalg.inv(A).dot(B)\n",
    "print(f\"Intercept (B0): {b0}\")\n",
    "print(f\"Slope (B1): {b1}\")"
   ]
  }
 ],
 "metadata": {
  "kernelspec": {
   "display_name": "Python 3 (ipykernel)",
   "language": "python",
   "name": "python3"
  },
  "language_info": {
   "codemirror_mode": {
    "name": "ipython",
    "version": 3
   },
   "file_extension": ".py",
   "mimetype": "text/x-python",
   "name": "python",
   "nbconvert_exporter": "python",
   "pygments_lexer": "ipython3",
   "version": "3.12.3"
  }
 },
 "nbformat": 4,
 "nbformat_minor": 5
}
