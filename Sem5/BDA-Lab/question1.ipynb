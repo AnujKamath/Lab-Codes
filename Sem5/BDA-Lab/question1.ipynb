{
 "cells": [
  {
   "cell_type": "markdown",
   "metadata": {},
   "source": [
    " Implement a PySpark script that applies transformations like filter and withColumn on a\n",
    "DataFrame"
   ]
  },
  {
   "cell_type": "code",
   "execution_count": 5,
   "metadata": {},
   "outputs": [],
   "source": [
    "import pyspark\n",
    "from pyspark.sql import SparkSession\n",
    "import pandas as pd\n",
    "from pyspark.sql import functions as F"
   ]
  },
  {
   "cell_type": "code",
   "execution_count": 3,
   "metadata": {},
   "outputs": [
    {
     "name": "stderr",
     "output_type": "stream",
     "text": [
      "/home/lplab/anaconda3/lib/python3.7/site-packages/pyspark/context.py:317: FutureWarning: Python 3.7 support is deprecated in Spark 3.4.\n",
      "  warnings.warn(\"Python 3.7 support is deprecated in Spark 3.4.\", FutureWarning)\n"
     ]
    }
   ],
   "source": [
    "spark = SparkSession.builder.config(\"spark.driver.memory\", \"16g\").appName('q1').getOrCreate()"
   ]
  },
  {
   "cell_type": "code",
   "execution_count": 6,
   "metadata": {},
   "outputs": [
    {
     "name": "stdout",
     "output_type": "stream",
     "text": [
      "root\n",
      " |-- ID: integer (nullable = true)\n",
      " |-- Name: string (nullable = true)\n",
      " |-- Age: integer (nullable = true)\n",
      " |-- Salary: integer (nullable = true)\n",
      "\n",
      "+---+-------------+---+------+\n",
      "| ID|         Name|Age|Salary|\n",
      "+---+-------------+---+------+\n",
      "|  1|     John Doe| 28| 50000|\n",
      "|  2|   Jane Smith| 34| 60000|\n",
      "|  3|Emily Johnson| 45| 70000|\n",
      "|  4|Michael Brown| 29| 55000|\n",
      "|  5|Jessica Davis| 32| 65000|\n",
      "+---+-------------+---+------+\n",
      "\n"
     ]
    }
   ],
   "source": [
    "df = spark.read.csv('dummy_data.csv', header='True', inferSchema='True')\n",
    "df.printSchema() # It will print the Schema\n",
    "df.show()"
   ]
  },
  {
   "cell_type": "code",
   "execution_count": 10,
   "metadata": {},
   "outputs": [
    {
     "name": "stdout",
     "output_type": "stream",
     "text": [
      "+---+-------------+---+------+--------------+\n",
      "| ID|         Name|Age|Salary|Provident_Fund|\n",
      "+---+-------------+---+------+--------------+\n",
      "|  1|     John Doe| 28| 50000|        2500.0|\n",
      "|  2|   Jane Smith| 34| 60000|        3000.0|\n",
      "|  3|Emily Johnson| 45| 70000|        3500.0|\n",
      "|  4|Michael Brown| 29| 55000|        2750.0|\n",
      "|  5|Jessica Davis| 32| 65000|        3250.0|\n",
      "+---+-------------+---+------+--------------+\n",
      "\n",
      "+---+-------------+---+------+\n",
      "| ID|         Name|Age|Salary|\n",
      "+---+-------------+---+------+\n",
      "|  2|   Jane Smith| 34| 60000|\n",
      "|  3|Emily Johnson| 45| 70000|\n",
      "|  5|Jessica Davis| 32| 65000|\n",
      "+---+-------------+---+------+\n",
      "\n"
     ]
    }
   ],
   "source": [
    "# Implement a PySpark script that applies transformations like filter and withColumn on a DataFrame\n",
    "from pyspark.sql.functions import col\n",
    "df.withColumn(\"Provident_Fund\",col(\"Salary\")* 0.05).show()\n",
    "df.filter(col('age')>30).show()"
   ]
  },
  {
   "cell_type": "code",
   "execution_count": 13,
   "metadata": {},
   "outputs": [
    {
     "name": "stdout",
     "output_type": "stream",
     "text": [
      "5\n",
      "+---+-------------+---+------+\n",
      "| ID|         Name|Age|Salary|\n",
      "+---+-------------+---+------+\n",
      "|  1|     John Doe| 28| 50000|\n",
      "|  2|   Jane Smith| 34| 60000|\n",
      "|  3|Emily Johnson| 45| 70000|\n",
      "|  4|Michael Brown| 29| 55000|\n",
      "|  5|Jessica Davis| 32| 65000|\n",
      "+---+-------------+---+------+\n",
      "\n"
     ]
    }
   ],
   "source": [
    "# Write a PySpark script that performs actions like count and show on a DataFrame.\n",
    "print(df.distinct().count())\n",
    "df.show()"
   ]
  },
  {
   "cell_type": "code",
   "execution_count": 33,
   "metadata": {},
   "outputs": [
    {
     "name": "stdout",
     "output_type": "stream",
     "text": [
      "+-----------+\n",
      "|sum(Salary)|\n",
      "+-----------+\n",
      "|     300000|\n",
      "+-----------+\n",
      "\n",
      "+-----------+\n",
      "|avg(Salary)|\n",
      "+-----------+\n",
      "|    60000.0|\n",
      "+-----------+\n",
      "\n"
     ]
    }
   ],
   "source": [
    "# 3) Demonstrate how to perform basic aggregations (e.g., sum, average) on a PySpark\n",
    "# DataFrame\n",
    "\n",
    "# print(\"avg: \" + str(df.select(avg(\"salary\")).collect()[0][0]))\n",
    "from pyspark.sql.functions import sum, avg\n",
    "# df.groupBy('Name').sum('Salary').show()\n",
    "df.select('Salary').agg(sum(\"Salary\")).show()\n",
    "df.select('Salary').agg(avg(\"Salary\")).show()"
   ]
  },
  {
   "cell_type": "code",
   "execution_count": 42,
   "metadata": {},
   "outputs": [],
   "source": [
    "# df.write.csv('dummy_data2.csv')\n",
    "df.write.csv(\"data2.csv\")"
   ]
  },
  {
   "cell_type": "code",
   "execution_count": 45,
   "metadata": {},
   "outputs": [
    {
     "name": "stdout",
     "output_type": "stream",
     "text": [
      "+--------------+-----+\n",
      "|word          |count|\n",
      "+--------------+-----+\n",
      "|purpose       |1    |\n",
      "|capabilities. |1    |\n",
      "|for           |1    |\n",
      "|words         |1    |\n",
      "|in            |1    |\n",
      "|contains      |1    |\n",
      "|task          |1    |\n",
      "|count         |2    |\n",
      "|created       |1    |\n",
      "|is            |3    |\n",
      "|processing.   |1    |\n",
      "|It            |1    |\n",
      "|file          |1    |\n",
      "|the           |1    |\n",
      "|demonstrating |1    |\n",
      "|word          |1    |\n",
      "|functionality.|1    |\n",
      "|of            |1    |\n",
      "|several       |1    |\n",
      "|sample        |1    |\n",
      "+--------------+-----+\n",
      "only showing top 20 rows\n",
      "\n"
     ]
    }
   ],
   "source": [
    "#5) Implement wordcount program in PySpark\n",
    "from pyspark.sql.functions import split, explode, col\n",
    "\n",
    "df = spark.read.csv(\"output.txt\", inferSchema=True, header=False)\n",
    "\n",
    "words_df = df.select(explode(split(col(\"_c0\"), \" \")).alias(\"word\"))\n",
    "word_count_df = words_df.groupBy(\"word\").count()\n",
    "word_count_df.show(truncate=False)"
   ]
  },
  {
   "cell_type": "code",
   "execution_count": null,
   "metadata": {},
   "outputs": [],
   "source": [
    "lplab@lpcp-34:~$ tar xzf /home/lplab/Downloads/hadoop-1.1.1.tar.gz\n",
    "wget /home/lplab/Downloads/hadoop-1.1.1.tar.gz\n",
    "\n",
    "export HADOOP_HOME=/home/hadoop/hadoop-1.1.1\n",
    "export HADOOP_INSTALL=$HADOOP_HOME\n",
    "export HADOOP_MAPRED_HOME=$HADOOP_HOME\n",
    "export HADOOP_COMMON_HOME=$HADOOP_HOME\n",
    "export HADOOP_HDFS_HOME=$HADOOP_HOME\n",
    "export YARN_HOME=$HADOOP_HOME\n",
    "export HADOOP_COMMON_LIB_NATIVE_DIR=$HADOOP_HOME/lib/native\n",
    "export PATH=$PATH:$HADOOP_HOME/sbin:$HADOOP_HOME/bin\n",
    "export HADOOP_OPTS\"-Djava.library.path=$HADOOP_HOME/lib/nativ\""
   ]
  }
 ],
 "metadata": {
  "kernelspec": {
   "display_name": "Python 3 (ipykernel)",
   "language": "python",
   "name": "python3"
  },
  "language_info": {
   "codemirror_mode": {
    "name": "ipython",
    "version": 3
   },
   "file_extension": ".py",
   "mimetype": "text/x-python",
   "name": "python",
   "nbconvert_exporter": "python",
   "pygments_lexer": "ipython3",
   "version": "3.7.0"
  }
 },
 "nbformat": 4,
 "nbformat_minor": 2
}
