{
 "cells": [
  {
   "cell_type": "code",
   "execution_count": 2,
   "id": "16ffd976",
   "metadata": {},
   "outputs": [],
   "source": [
    "import numpy as np"
   ]
  },
  {
   "cell_type": "code",
   "execution_count": 30,
   "id": "d4459f9d",
   "metadata": {},
   "outputs": [
    {
     "data": {
      "text/plain": [
       "array([[0, 1, 2],\n",
       "       [3, 4, 5],\n",
       "       [6, 7, 8]])"
      ]
     },
     "execution_count": 30,
     "metadata": {},
     "output_type": "execute_result"
    }
   ],
   "source": [
    "arr1=np.array([0, 1, 2, 3, 4, 5, 6, 7, 8])\n",
    "arr1.reshape((3,3))"
   ]
  },
  {
   "cell_type": "code",
   "execution_count": 31,
   "id": "a53c8a5c",
   "metadata": {},
   "outputs": [
    {
     "data": {
      "text/plain": [
       "array([ 0, -1,  2, -1,  4, -1,  6, -1,  8])"
      ]
     },
     "execution_count": 31,
     "metadata": {},
     "output_type": "execute_result"
    }
   ],
   "source": [
    "arr1[arr1%2==1]=-1\n",
    "arr1"
   ]
  },
  {
   "cell_type": "code",
   "execution_count": 21,
   "id": "b894a9ae",
   "metadata": {},
   "outputs": [
    {
     "name": "stdout",
     "output_type": "stream",
     "text": [
      "(array([1, 2, 4, 5, 6, 7, 8, 9]),)\n",
      "(array([0]),)\n"
     ]
    }
   ],
   "source": [
    "x = np.array([21, 64, 86, 22, 74, 55, 81, 79, 90, 89]) \n",
    "y = np.array([21, 7, 3, 45, 10, 29, 55, 4, 37, 18])\n",
    "print(np.where(x>y))\n",
    "print(np.where(x==y))"
   ]
  },
  {
   "cell_type": "code",
   "execution_count": 25,
   "id": "8982d9c0",
   "metadata": {},
   "outputs": [
    {
     "data": {
      "text/plain": [
       "array([[ 0,  1,  2,  3],\n",
       "       [20, 21, 22, 23],\n",
       "       [40, 41, 42, 43],\n",
       "       [60, 61, 62, 63],\n",
       "       [80, 81, 82, 83]])"
      ]
     },
     "execution_count": 25,
     "metadata": {},
     "output_type": "execute_result"
    }
   ],
   "source": [
    "np.arange(100).reshape(5,-1)[:,:4]"
   ]
  },
  {
   "cell_type": "code",
   "execution_count": 13,
   "id": "a2d53b14",
   "metadata": {},
   "outputs": [
    {
     "data": {
      "text/plain": [
       "array([40, 38, 36, 34, 37, 31, 33, 34, 40, 31])"
      ]
     },
     "execution_count": 13,
     "metadata": {},
     "output_type": "execute_result"
    }
   ],
   "source": [
    "np.random.randint(30,41,10)"
   ]
  },
  {
   "cell_type": "code",
   "execution_count": 19,
   "id": "aa50e5da",
   "metadata": {},
   "outputs": [
    {
     "name": "stdout",
     "output_type": "stream",
     "text": [
      "[[ 8 10 13]\n",
      " [ 8 10 12]\n",
      " [ 8 10 13]]\n",
      "[[-6 -6 -7]\n",
      " [ 0  0  0]\n",
      " [ 6  6  7]]\n",
      "46\n",
      "[12 15 19]\n",
      "[25 15  6]\n",
      "[[ 7 16 30]\n",
      " [16 25 36]\n",
      " [ 7 16 30]]\n",
      "[[ 8  8  8]\n",
      " [10 10 10]\n",
      " [12 13 13]]\n",
      "[[ 8 10 12]\n",
      " [ 8 10 13]\n",
      " [ 8 10 13]]\n"
     ]
    }
   ],
   "source": [
    "A=np.array([(1,2,3),(4,5,6),(7,8,10)])\n",
    "B=np.array([(7,8,10),(4,5,6),(1,2,3)])\n",
    "C=np.add(A,B)\n",
    "E=np.subtract(A,B)\n",
    "print(C)\n",
    "print(E)\n",
    "print(np.sum(A))\n",
    "print(np.sum(B,axis=0))\n",
    "print(np.sum(B,axis=1))\n",
    "D=A*B\n",
    "print(D)\n",
    "E=np.sort(C,axis=None).reshape((3,3))\n",
    "print(E)\n",
    "print(np.transpose(E))"
   ]
  }
 ],
 "metadata": {
  "kernelspec": {
   "display_name": "Python 3 (ipykernel)",
   "language": "python",
   "name": "python3"
  },
  "language_info": {
   "codemirror_mode": {
    "name": "ipython",
    "version": 3
   },
   "file_extension": ".py",
   "mimetype": "text/x-python",
   "name": "python",
   "nbconvert_exporter": "python",
   "pygments_lexer": "ipython3",
   "version": "3.12.3"
  }
 },
 "nbformat": 4,
 "nbformat_minor": 5
}
