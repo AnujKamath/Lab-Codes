{
 "cells": [
  {
   "cell_type": "code",
   "execution_count": 1,
   "id": "d2f35256",
   "metadata": {},
   "outputs": [],
   "source": [
    "import torch\n",
    "import numpy as np"
   ]
  },
  {
   "cell_type": "code",
   "execution_count": 14,
   "id": "d2e63628",
   "metadata": {},
   "outputs": [
    {
     "name": "stdout",
     "output_type": "stream",
     "text": [
      "x: tensor([1, 2, 3, 4, 5, 6, 7, 8])\n",
      "After Reshaping:\n",
      " tensor([[1, 2, 3, 4],\n",
      "        [5, 6, 7, 8]])\n",
      "After viewing:\n",
      " tensor([[1, 2],\n",
      "        [3, 4],\n",
      "        [5, 6],\n",
      "        [7, 8]])\n",
      "After stacking:\n",
      " tensor([[1, 2, 3, 4, 5, 6, 7, 8],\n",
      "        [1, 2, 3, 4, 5, 6, 7, 8]])\n",
      "After unsqueeze:\n",
      " tensor([[1, 2, 3, 4, 5, 6, 7, 8]])\n",
      "After squeeze:\n",
      " tensor([1, 2, 3, 4, 5, 6, 7, 8])\n"
     ]
    }
   ],
   "source": [
    "# 1. Illustrate the functions for Reshaping, viewing, stacking, squeezing and unsqueezing of tensors\n",
    "x = torch.tensor([1,2,3,4,5,6,7,8])\n",
    "print(\"x:\",x)\n",
    "y = torch.reshape(x, (2, 4))\n",
    "print(\"After Reshaping:\\n\",y)\n",
    "\n",
    "y = x.view(4,2)\n",
    "print(\"After viewing:\\n\",y)\n",
    "\n",
    "y = torch.stack([x, x], dim=0)\n",
    "print(\"After stacking:\\n\",y)  \n",
    "\n",
    "y = x.unsqueeze(0)\n",
    "print(\"After unsqueeze:\\n\",y)\n",
    "\n",
    "y = y.squeeze(0)\n",
    "print(\"After squeeze:\\n\",y)"
   ]
  },
  {
   "cell_type": "code",
   "execution_count": 18,
   "id": "bbb5299c",
   "metadata": {},
   "outputs": [
    {
     "name": "stdout",
     "output_type": "stream",
     "text": [
      "Initial Tensor:\n",
      " tensor([[0.7204, 0.0731]]) \n",
      "with size: torch.Size([1, 2])\n",
      "New tensor\n",
      " tensor([[0.7204],\n",
      "        [0.0731]]) \n",
      "with size: torch.Size([2, 1])\n"
     ]
    }
   ],
   "source": [
    "# 2. Illustrate the use of torch.permute().\n",
    "y = torch.rand(1,2)\n",
    "print(\"Initial Tensor:\\n\",y,\"\\nwith size:\",y.shape)\n",
    "perm = torch.permute(y,(1, 0))\n",
    "print(\"New tensor\\n\", perm,\"\\nwith size:\",perm.shape)"
   ]
  },
  {
   "cell_type": "code",
   "execution_count": 4,
   "id": "e5dd91f5",
   "metadata": {},
   "outputs": [
    {
     "name": "stdout",
     "output_type": "stream",
     "text": [
      "tensor([1, 2])\n"
     ]
    }
   ],
   "source": [
    "#3. Illustrate indexing in tensors\n",
    "print(x[0:2])"
   ]
  },
  {
   "cell_type": "code",
   "execution_count": 5,
   "id": "bf876164",
   "metadata": {},
   "outputs": [
    {
     "name": "stdout",
     "output_type": "stream",
     "text": [
      "[0 1 2 3 4 5 6]\n",
      "tensor([0, 1, 2, 3, 4, 5, 6])\n"
     ]
    }
   ],
   "source": [
    "#4. Show how numpy arrays are converted to tensors and back again to numpy arrays\n",
    "x=np.arange(7)\n",
    "print(x)\n",
    "y=torch.tensor(x)\n",
    "print(y)"
   ]
  },
  {
   "cell_type": "code",
   "execution_count": 6,
   "id": "36400fb1",
   "metadata": {},
   "outputs": [
    {
     "data": {
      "text/plain": [
       "tensor([[0.9070, 0.0695, 0.3877, 0.4942, 0.0465, 0.9684, 0.2225],\n",
       "        [0.7860, 0.7744, 0.4969, 0.6347, 0.8878, 0.3036, 0.9189],\n",
       "        [0.8416, 0.3911, 0.1783, 0.2463, 0.8715, 0.9748, 0.0254],\n",
       "        [0.7444, 0.5154, 0.7098, 0.0557, 0.8983, 0.8995, 0.8743],\n",
       "        [0.5543, 0.8133, 0.8391, 0.0928, 0.4552, 0.1626, 0.2433],\n",
       "        [0.7162, 0.4683, 0.5887, 0.1860, 0.0855, 0.5133, 0.0457],\n",
       "        [0.8672, 0.0789, 0.3647, 0.7031, 0.5716, 0.2278, 0.6455]])"
      ]
     },
     "execution_count": 6,
     "metadata": {},
     "output_type": "execute_result"
    }
   ],
   "source": [
    "# 5.Create a random tensor with shape (7, 7).\n",
    "x = torch.rand(7,7)\n",
    "x"
   ]
  },
  {
   "cell_type": "code",
   "execution_count": 7,
   "id": "6ed4fcab",
   "metadata": {},
   "outputs": [
    {
     "name": "stdout",
     "output_type": "stream",
     "text": [
      "tensor([[-0.1153,  2.3253, -0.0745, -0.5434, -0.4562,  0.2624, -0.4672],\n",
      "        [-0.0643,  1.2972, -0.0416, -0.3031, -0.2545,  0.1464, -0.2606]])\n"
     ]
    }
   ],
   "source": [
    "# 6. Perform a matrix multiplication on the tensor from 2 with another random tensor with shape (1, 7) (hint: you may have to transpose the second tensor).\n",
    "x=torch.randn(1,7)\n",
    "mul=perm@x\n",
    "print(mul)"
   ]
  },
  {
   "cell_type": "code",
   "execution_count": 8,
   "id": "b93b7dd8",
   "metadata": {},
   "outputs": [
    {
     "name": "stdout",
     "output_type": "stream",
     "text": [
      "Tensor 1 on GPU: tensor([[ 0.6015,  0.0174, -0.4183],\n",
      "        [-0.0160, -0.3691,  1.0434]], device='cuda:0')\n",
      "Tensor 2 on GPU: tensor([[-0.8957,  0.2164,  0.6484],\n",
      "        [-0.4722, -0.2446, -0.8843]], device='cuda:0')\n"
     ]
    }
   ],
   "source": [
    "# 7. Create two random tensors of shape (2, 3) and send them both to the GPU (you'll need access to a GPU for this).\n",
    "\n",
    "a = torch.randn(2, 3).to(\"cuda\")\n",
    "b = torch.randn(2, 3).to(\"cuda\")\n",
    "print(\"Tensor 1 on GPU:\", a)\n",
    "print(\"Tensor 2 on GPU:\", b)"
   ]
  },
  {
   "cell_type": "code",
   "execution_count": 9,
   "id": "c804e80b",
   "metadata": {},
   "outputs": [
    {
     "name": "stdout",
     "output_type": "stream",
     "text": [
      "tensor([[6.2167, 3.4680],\n",
      "        [3.4680, 1.9347]])\n"
     ]
    }
   ],
   "source": [
    "# 8. Perform a matrix multiplication on the tensors you created in 6 (again, you may have to adjust the shapes of one of the tensors).\n",
    "print(mul@mul.T)"
   ]
  },
  {
   "cell_type": "code",
   "execution_count": 10,
   "id": "e0b5724c",
   "metadata": {},
   "outputs": [
    {
     "name": "stdout",
     "output_type": "stream",
     "text": [
      "Max value:1.0434134006500244, Min value:-0.4182544946670532 in tensor([[ 0.6015,  0.0174, -0.4183],\n",
      "        [-0.0160, -0.3691,  1.0434]], device='cuda:0')\n"
     ]
    }
   ],
   "source": [
    "# 9. Find the maximum and minimum values of the output of 7.\n",
    "maxa=torch.max(a)\n",
    "mini=torch.min(a)\n",
    "print(f\"Max value:{maxa}, Min value:{mini} in {a}\")"
   ]
  },
  {
   "cell_type": "code",
   "execution_count": 11,
   "id": "c1418f93",
   "metadata": {},
   "outputs": [
    {
     "name": "stdout",
     "output_type": "stream",
     "text": [
      "Max Index value:5, Min Index value:2\n"
     ]
    }
   ],
   "source": [
    "# 10. Find the maximum and minimum index values of the output of 7.\n",
    "maxa=torch.argmax(a)\n",
    "mini=torch.argmin(a)\n",
    "print(f\"Max Index value:{maxa}, Min Index value:{mini}\")"
   ]
  },
  {
   "cell_type": "code",
   "execution_count": 12,
   "id": "e651ccce",
   "metadata": {},
   "outputs": [
    {
     "name": "stdout",
     "output_type": "stream",
     "text": [
      "Initial Tensor:tensor([[[[0.5349, 0.1988, 0.6592, 0.6569, 0.2328, 0.4251, 0.2071, 0.6297,\n",
      "           0.3653, 0.8513]]]]) \n",
      " with shape: torch.Size([1, 1, 1, 10])\n",
      "\n",
      "Final Tensor:tensor([0.5349, 0.1988, 0.6592, 0.6569, 0.2328, 0.4251, 0.2071, 0.6297, 0.3653,\n",
      "        0.8513]) \n",
      " with shape: torch.Size([10])\n"
     ]
    }
   ],
   "source": [
    "# 11. Make a random tensor with shape (1, 1, 1, 10) and then create a new tensor with all the 1 dimensions removed to be left with a tensor of shape (10). Set the seed to 7 when you create it and print out the first tensor and it's shape as well as the second tensor and it's shape.\n",
    "torch.manual_seed(7)\n",
    "x = torch.rand((1,1,1,10))\n",
    "print(f\"Initial Tensor:{x} \\n with shape: {x.shape}\")\n",
    "y=x.squeeze()\n",
    "print(f\"\\nFinal Tensor:{y} \\n with shape: {y.shape}\")\n",
    "\n"
   ]
  }
 ],
 "metadata": {
  "kernelspec": {
   "display_name": "Python (torch)",
   "language": "python",
   "name": "torch-env"
  },
  "language_info": {
   "codemirror_mode": {
    "name": "ipython",
    "version": 3
   },
   "file_extension": ".py",
   "mimetype": "text/x-python",
   "name": "python",
   "nbconvert_exporter": "python",
   "pygments_lexer": "ipython3",
   "version": "3.12.3"
  }
 },
 "nbformat": 4,
 "nbformat_minor": 5
}
