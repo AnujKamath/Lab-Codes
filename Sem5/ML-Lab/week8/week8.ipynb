{
 "cells": [
  {
   "cell_type": "code",
   "execution_count": 61,
   "id": "74a1edf9",
   "metadata": {},
   "outputs": [],
   "source": [
    "import numpy as np\n",
    "import pandas as pd\n",
    "import matplotlib.pyplot as plt"
   ]
  },
  {
   "cell_type": "markdown",
   "id": "416c5994",
   "metadata": {},
   "source": [
    "# Question 1A\n",
    "\n",
    "1. Implement the KNN algorithm manually with k=3 to classify a new fruit with a weight of 165 grams\n",
    "and sweetness level of 5.5.\n",
    "2. Calculate the Euclidean, Manhattan, and Minkowski distances between the new fruit and all the\n",
    "existing fruits in the dataset. Finally compare the calculated distances.\n",
    "3. Based on the k-nearest neighbors, determine the label for the new fruit.\n",
    "4. What is the effect of choosing different values of k (e.g., k=1, k=5) on the classification result?\n",
    "5. Implement the above using function python program without using scikit learn library.\n",
    "6. Plot the given samples, the Apple in Red color and the Orange in orange color. Also draw the\n",
    "decision boundary."
   ]
  },
  {
   "cell_type": "code",
   "execution_count": 28,
   "id": "0b1e19a0",
   "metadata": {},
   "outputs": [
    {
     "data": {
      "text/plain": [
       "{'Apple': 1, 'Orange': 2}"
      ]
     },
     "execution_count": 28,
     "metadata": {},
     "output_type": "execute_result"
    }
   ],
   "source": [
    "data=pd.read_csv('data1.csv')\n",
    "labels=data['Label'].unique()\n",
    "label_map={}\n",
    "c=1\n",
    "for label in labels:\n",
    "    label_map[label]=c\n",
    "    c+=1\n",
    "label_map"
   ]
  },
  {
   "cell_type": "code",
   "execution_count": 179,
   "id": "e0c96521",
   "metadata": {},
   "outputs": [
    {
     "data": {
      "text/plain": [
       "array([[180,   7],\n",
       "       [200,   6],\n",
       "       [150,   4],\n",
       "       [170,   5],\n",
       "       [160,   6],\n",
       "       [140,   3]])"
      ]
     },
     "execution_count": 179,
     "metadata": {},
     "output_type": "execute_result"
    }
   ],
   "source": [
    "y=data['Label']\n",
    "y1=y.map(label_map)\n",
    "X=data.drop(columns=['Fruit_ID','Label'])\n",
    "new_fruit1=[165,5.5]\n",
    "X,y\n",
    "X_array=np.array(X)\n",
    "X_array"
   ]
  },
  {
   "cell_type": "code",
   "execution_count": 172,
   "id": "4fd38d47",
   "metadata": {},
   "outputs": [],
   "source": [
    "def euclidean_distance(point1, point2):\n",
    "    return np.sqrt(np.sum((point1 - point2) ** 2))\n",
    "\n",
    "def manhattan_distance(point1, point2):\n",
    "    return np.sum(np.abs(point1 - point2))\n",
    "\n",
    "def minkowski_distance(point1, point2, p):\n",
    "    return np.power(np.sum(np.abs(point1 - point2) ** p), 1/p)"
   ]
  },
  {
   "cell_type": "code",
   "execution_count": 173,
   "id": "ce369a44",
   "metadata": {},
   "outputs": [],
   "source": [
    "def knn_predict(X, y, new_point, k=3):\n",
    "    distances = []\n",
    "\n",
    "    for i in range(len(X)):\n",
    "        distance = euclidean_distance(X[i], new_point)\n",
    "        distances.append((distance, y[i]))  # Store distance and corresponding label\n",
    "\n",
    "    distances.sort(key=lambda x: x[0])\n",
    "\n",
    "    k_nearest_labels = [label for _, label in distances[:k]]\n",
    "    label_counts = {}\n",
    "    for label in k_nearest_labels:\n",
    "        if label in label_counts:\n",
    "            label_counts[label] += 1\n",
    "        else:\n",
    "            label_counts[label] = 1\n",
    "\n",
    "    predicted_label = max(label_counts, key=label_counts.get)\n",
    "    return predicted_label"
   ]
  },
  {
   "cell_type": "code",
   "execution_count": 174,
   "id": "cb2fe7e1",
   "metadata": {},
   "outputs": [
    {
     "name": "stdout",
     "output_type": "stream",
     "text": [
      "Predicted Label: Apple\n"
     ]
    }
   ],
   "source": [
    "predicted_label = knn_predict(X_array, y, new_fruit1, k=3)\n",
    "print(\"Predicted Label:\", predicted_label)"
   ]
  },
  {
   "cell_type": "code",
   "execution_count": 175,
   "id": "e51de244",
   "metadata": {},
   "outputs": [
    {
     "name": "stdout",
     "output_type": "stream",
     "text": [
      "Distances from New Fruit:\n",
      "        Euclidean  Manhattan  Minkowski (p=3)\n",
      "Label                                        \n",
      "Apple   15.074813       16.5        15.004998\n",
      "Apple   35.003571       35.5        35.000034\n",
      "Orange  15.074813       16.5        15.004998\n",
      "Orange   5.024938        5.5         5.001666\n",
      "Apple    5.024938        5.5         5.001666\n",
      "Orange  25.124689       27.5        25.008331\n"
     ]
    }
   ],
   "source": [
    "euclidean_distances = []\n",
    "manhattan_distances = []\n",
    "minkowski_distances = []\n",
    "\n",
    "for fruit in X_array:\n",
    "    euclidean_distances.append(euclidean_distance(fruit, new_fruit1))\n",
    "    manhattan_distances.append(manhattan_distance(fruit, new_fruit1))\n",
    "    minkowski_distances.append(minkowski_distance(fruit, new_fruit1, p=3))  # Example with p=3\n",
    "\n",
    "distances_df = pd.DataFrame({\n",
    "    'Euclidean': euclidean_distances,\n",
    "    'Manhattan': manhattan_distances,\n",
    "    'Minkowski (p=3)': minkowski_distances\n",
    "}, index=data['Label'])\n",
    "\n",
    "print(\"Distances from New Fruit:\")\n",
    "print(distances_df)\n"
   ]
  },
  {
   "cell_type": "code",
   "execution_count": 176,
   "id": "761a7bbe",
   "metadata": {},
   "outputs": [
    {
     "name": "stdout",
     "output_type": "stream",
     "text": [
      "Predicted Label(k=1): Orange\n",
      "Predicted Label(k=5): Orange\n"
     ]
    }
   ],
   "source": [
    "predicted_label = knn_predict(X_array, y, new_fruit1, k=1)\n",
    "print(\"Predicted Label(k=1):\", predicted_label)\n",
    "\n",
    "predicted_label = knn_predict(X_array, y, new_fruit1, k=5)\n",
    "print(\"Predicted Label(k=5):\", predicted_label)"
   ]
  },
  {
   "cell_type": "code",
   "execution_count": 180,
   "id": "3586b997",
   "metadata": {},
   "outputs": [
    {
     "data": {
      "image/png": "[encoded data removed]",
      "text/plain": [
       "<Figure size 1000x600 with 1 Axes>"
      ]
     },
     "metadata": {},
     "output_type": "display_data"
    }
   ],
   "source": [
    "plt.figure(figsize=(10, 6))\n",
    "plt.scatter(X_array[y1 == 1,0], X_array[y1 == 1, 1], color='red', label='Apple', s=100)\n",
    "plt.scatter(X_array[y1 == 2, 0], X_array[y1 == 2, 1], color='orange', label='Orange', s=100)\n",
    "plt.scatter(new_fruit1[0], new_fruit1[1], color='blue', marker='x', s=200, label='New Fruit')\n",
    "plt.axhline(y=5.5, color='r', linestyle='--', label='y = 0.5')\n",
    "\n",
    "\n",
    "plt.xlabel('Weight (grams)')\n",
    "plt.ylabel('Sweetness Level')\n",
    "plt.title('KNN Classification with Decision Boundary')\n",
    "plt.legend()\n",
    "plt.grid()\n",
    "plt.show()"
   ]
  },
  {
   "cell_type": "markdown",
   "id": "30c06215",
   "metadata": {},
   "source": [
    "# Question 1B\n",
    "\n",
    "Implement the Python code for Q-1. A using the scikit-learn library. Plot the given samples, using red for\n",
    "\"Apple\" and orange for \"Orange.\" Also, plot the decision boundary. Calculate the distances using Euclidean,\n",
    "Manhattan, and Minkowski metrics, and compare the results."
   ]
  },
  {
   "cell_type": "code",
   "execution_count": 181,
   "id": "a3d9356e",
   "metadata": {},
   "outputs": [
    {
     "name": "stdout",
     "output_type": "stream",
     "text": [
      "Predicted Label (k=1): ['Orange']\n",
      "Predicted Label (k=3): ['Orange']\n",
      "Predicted Label (k=5): ['Orange']\n"
     ]
    }
   ],
   "source": [
    "from sklearn.neighbors import KNeighborsClassifier\n",
    "from sklearn.metrics import pairwise_distances\n",
    "k = 3\n",
    "new_fruit = np.array([[165, 5.5]])\n",
    "knn = KNeighborsClassifier(n_neighbors=k)\n",
    "knn.fit(X_array, y)\n",
    "\n",
    "for k in [1, 3, 5]:\n",
    "    knn = KNeighborsClassifier(n_neighbors=k)\n",
    "    knn.fit(X_array, y)\n",
    "    pred = knn.predict(new_fruit)\n",
    "    print(f\"Predicted Label (k={k}):\", pred)"
   ]
  },
  {
   "cell_type": "code",
   "execution_count": 183,
   "id": "5d61b727",
   "metadata": {
    "scrolled": true
   },
   "outputs": [
    {
     "name": "stdout",
     "output_type": "stream",
     "text": [
      "Distances from New Fruit:\n",
      "        Euclidean  Manhattan  Minkowski (p=2)\n",
      "Label                                        \n",
      "Apple   15.074813       16.5        15.004998\n",
      "Apple   35.003571       35.5        35.000034\n",
      "Orange  15.074813       16.5        15.004998\n",
      "Orange   5.024938        5.5         5.001666\n",
      "Apple    5.024938        5.5         5.001666\n",
      "Orange  25.124689       27.5        25.008331\n"
     ]
    },
    {
     "data": {
      "image/png": "[encoded data removed]",
      "text/plain": [
       "<Figure size 1000x600 with 1 Axes>"
      ]
     },
     "metadata": {},
     "output_type": "display_data"
    }
   ],
   "source": [
    "euclidean_distances = pairwise_distances(X_array, new_fruit, metric='euclidean')\n",
    "manhattan_distances = pairwise_distances(X_array, new_fruit, metric='manhattan')\n",
    "minkowski_distances = pairwise_distances(X_array, new_fruit, metric='minkowski', p=3)  # Example with p=3\n",
    "\n",
    "distances_df = pd.DataFrame({\n",
    "    'Euclidean': euclidean_distances.flatten(),\n",
    "    'Manhattan': manhattan_distances.flatten(),\n",
    "    'Minkowski (p=2)': minkowski_distances.flatten()\n",
    "},index=data['Label'])\n",
    "\n",
    "print(\"Distances from New Fruit:\")\n",
    "print(distances_df)\n",
    "\n",
    "plt.figure(figsize=(10, 6))\n",
    "plt.scatter(X_array[y1 == 1,0], X_array[y1 == 1, 1], color='red', label='Apple', s=100)\n",
    "plt.scatter(X_array[y1 == 2, 0], X_array[y1 == 2, 1], color='orange', label='Orange', s=100)\n",
    "plt.scatter(new_fruit[0][0], new_fruit[0][1], color='blue', marker='x', s=200, label='New Fruit')\n",
    "plt.axhline(y=5.5, color='r', linestyle='--', label='y = 0.5')\n",
    "plt.xlabel('Weight (grams)')\n",
    "plt.ylabel('Sweetness Level')\n",
    "plt.title('KNN Classification with Decision Boundary')\n",
    "plt.legend()\n",
    "plt.grid()\n",
    "plt.show()"
   ]
  },
  {
   "cell_type": "markdown",
   "id": "b956ecf0",
   "metadata": {},
   "source": [
    "# Question 2A\n",
    "\n",
    "1. Calculate the entropy for the target variable (Diagnosis).\n",
    "2. Calculate the information gain for each feature (Age, Blood Pressure, Cholesterol).3. Using the ID3 algorithm, decide which feature should be chosen as the root node for the decision\n",
    "tree.\n",
    "4. Build the decision tree and explain the first few splits.\n",
    "5. Predict whether a 50-year-old patient with low blood pressure and normal cholesterol is healthy or\n",
    "sick using the tree you built.\n",
    "6. Implement the above using function python program without using scikit learn library."
   ]
  },
  {
   "cell_type": "code",
   "execution_count": 184,
   "id": "6002ab18",
   "metadata": {},
   "outputs": [
    {
     "data": {
      "text/html": [
       "<div>\n",
       "<style scoped>\n",
       "    .dataframe tbody tr th:only-of-type {\n",
       "        vertical-align: middle;\n",
       "    }\n",
       "\n",
       "    .dataframe tbody tr th {\n",
       "        vertical-align: top;\n",
       "    }\n",
       "\n",
       "    .dataframe thead th {\n",
       "        text-align: right;\n",
       "    }\n",
       "</style>\n",
       "<table border=\"1\" class=\"dataframe\">\n",
       "  <thead>\n",
       "    <tr style=\"text-align: right;\">\n",
       "      <th></th>\n",
       "      <th>Age</th>\n",
       "      <th>Blood Pressure</th>\n",
       "      <th>Cholesterol</th>\n",
       "      <th>Diagnosis</th>\n",
       "    </tr>\n",
       "  </thead>\n",
       "  <tbody>\n",
       "    <tr>\n",
       "      <th>0</th>\n",
       "      <td>30</td>\n",
       "      <td>High</td>\n",
       "      <td>High</td>\n",
       "      <td>Sick</td>\n",
       "    </tr>\n",
       "    <tr>\n",
       "      <th>1</th>\n",
       "      <td>45</td>\n",
       "      <td>Low</td>\n",
       "      <td>Normal</td>\n",
       "      <td>Healthy</td>\n",
       "    </tr>\n",
       "    <tr>\n",
       "      <th>2</th>\n",
       "      <td>50</td>\n",
       "      <td>High</td>\n",
       "      <td>High</td>\n",
       "      <td>Sick</td>\n",
       "    </tr>\n",
       "    <tr>\n",
       "      <th>3</th>\n",
       "      <td>35</td>\n",
       "      <td>Low</td>\n",
       "      <td>Normal</td>\n",
       "      <td>Healthy</td>\n",
       "    </tr>\n",
       "    <tr>\n",
       "      <th>4</th>\n",
       "      <td>60</td>\n",
       "      <td>High</td>\n",
       "      <td>High</td>\n",
       "      <td>Sick</td>\n",
       "    </tr>\n",
       "    <tr>\n",
       "      <th>5</th>\n",
       "      <td>55</td>\n",
       "      <td>Low</td>\n",
       "      <td>Normal</td>\n",
       "      <td>Healthy</td>\n",
       "    </tr>\n",
       "    <tr>\n",
       "      <th>6</th>\n",
       "      <td>40</td>\n",
       "      <td>High</td>\n",
       "      <td>High</td>\n",
       "      <td>Sick</td>\n",
       "    </tr>\n",
       "    <tr>\n",
       "      <th>7</th>\n",
       "      <td>25</td>\n",
       "      <td>Low</td>\n",
       "      <td>Normal</td>\n",
       "      <td>Healthy</td>\n",
       "    </tr>\n",
       "    <tr>\n",
       "      <th>8</th>\n",
       "      <td>65</td>\n",
       "      <td>High</td>\n",
       "      <td>High</td>\n",
       "      <td>Sick</td>\n",
       "    </tr>\n",
       "    <tr>\n",
       "      <th>9</th>\n",
       "      <td>45</td>\n",
       "      <td>Low</td>\n",
       "      <td>Normal</td>\n",
       "      <td>Healthy</td>\n",
       "    </tr>\n",
       "  </tbody>\n",
       "</table>\n",
       "</div>"
      ],
      "text/plain": [
       "   Age Blood Pressure Cholesterol Diagnosis\n",
       "0   30           High        High      Sick\n",
       "1   45            Low      Normal   Healthy\n",
       "2   50           High        High      Sick\n",
       "3   35            Low      Normal   Healthy\n",
       "4   60           High        High      Sick\n",
       "5   55            Low      Normal   Healthy\n",
       "6   40           High        High      Sick\n",
       "7   25            Low      Normal   Healthy\n",
       "8   65           High        High      Sick\n",
       "9   45            Low      Normal   Healthy"
      ]
     },
     "execution_count": 184,
     "metadata": {},
     "output_type": "execute_result"
    }
   ],
   "source": [
    "df = pd.read_csv(\"data2.csv\")\n",
    "df"
   ]
  },
  {
   "cell_type": "code",
   "execution_count": 185,
   "id": "52a49215",
   "metadata": {},
   "outputs": [],
   "source": [
    "def calculate_entropy(target):\n",
    "    values = target.value_counts(normalize=True)\n",
    "    entropy = -np.sum(values * np.log2(values + 1e-9))\n",
    "    return entropy\n",
    "\n",
    "def calculate_information_gain(df, feature, target):\n",
    "    total_entropy = calculate_entropy(df[target])\n",
    "    values = df[feature].value_counts(normalize=True)\n",
    "    weighted_entropy = np.sum(values * df.groupby(feature)[target].apply(calculate_entropy))\n",
    "    information_gain = total_entropy - weighted_entropy\n",
    "    return information_gain\n",
    "\n",
    "class Node:\n",
    "    def __init__(self, feature=None, prediction=None):\n",
    "        self.feature = feature\n",
    "        self.prediction = prediction\n",
    "        self.left = None\n",
    "        self.right = None\n"
   ]
  },
  {
   "cell_type": "code",
   "execution_count": 186,
   "id": "310f10ca",
   "metadata": {},
   "outputs": [
    {
     "name": "stdout",
     "output_type": "stream",
     "text": [
      "Entropy of Diagnosis: 0.99999999711461\n"
     ]
    }
   ],
   "source": [
    "# Step 1: Calculate entropy for the target variable (Diagnosis)\n",
    "entropy_diagnosis = calculate_entropy(df['Diagnosis'])\n",
    "print(\"Entropy of Diagnosis:\", entropy_diagnosis)"
   ]
  },
  {
   "cell_type": "code",
   "execution_count": 187,
   "id": "372b7fb9",
   "metadata": {},
   "outputs": [
    {
     "name": "stdout",
     "output_type": "stream",
     "text": [
      "Information Gain for Age: 0.9999999985573051\n",
      "Information Gain for Blood Pressure: 0.9999999985573051\n",
      "Information Gain for Cholesterol: 0.9999999985573051\n"
     ]
    }
   ],
   "source": [
    "features = ['Age', 'Blood Pressure', 'Cholesterol']\n",
    "information_gains = {feature: calculate_information_gain(df, feature, 'Diagnosis') for feature in features}\n",
    "\n",
    "for feature, gain in information_gains.items():\n",
    "    print(f\"Information Gain for {feature}: {gain}\")"
   ]
  },
  {
   "cell_type": "code",
   "execution_count": 188,
   "id": "0da42449",
   "metadata": {},
   "outputs": [
    {
     "name": "stdout",
     "output_type": "stream",
     "text": [
      "Root Feature: Age\n"
     ]
    }
   ],
   "source": [
    "root_feature = max(information_gains, key=information_gains.get)\n",
    "print(\"Root Feature:\", root_feature)"
   ]
  },
  {
   "cell_type": "code",
   "execution_count": 189,
   "id": "a4c54667",
   "metadata": {},
   "outputs": [
    {
     "name": "stdout",
     "output_type": "stream",
     "text": [
      "  Predict: Healthy\n",
      "[Age]\n",
      "  Predict: Sick\n",
      "Prediction for the new patient: Sick\n"
     ]
    }
   ],
   "source": [
    "def build_tree(df, target):\n",
    "    if len(df[target].unique()) == 1:\n",
    "        return Node(prediction=df[target].iloc[0])\n",
    "\n",
    "    if df.empty or len(df.columns) == 1:\n",
    "        return Node(prediction=df[target].mode()[0])\n",
    "\n",
    "    best_feature = max(df.columns[:-1], key=lambda f: calculate_information_gain(df, f, target))\n",
    "    tree = Node(feature=best_feature)\n",
    "\n",
    "    for value in df[best_feature].unique():\n",
    "        subset = df[df[best_feature] == value]\n",
    "        \n",
    "        if not subset.empty:\n",
    "            subtree = build_tree(subset.drop(columns=[best_feature]), target)\n",
    "            if value <= 40:  # Customize the condition based on your data\n",
    "                tree.left = subtree\n",
    "            else:\n",
    "                tree.right = subtree\n",
    "\n",
    "    return tree\n",
    "\n",
    "def print_tree(node, depth=0):\n",
    "    if node is not None:\n",
    "        print_tree(node.left, depth + 1)\n",
    "        if node.prediction is not None:\n",
    "            print(f\"{'  ' * depth}Predict: {node.prediction}\")\n",
    "        if node.feature is not None:\n",
    "            print(f\"{'  ' * depth}[{node.feature}]\")\n",
    "        print_tree(node.right, depth + 1)\n",
    "\n",
    "tree = build_tree(df, 'Diagnosis')\n",
    "print_tree(tree)\n",
    "\n",
    "def predict(tree, instance):\n",
    "    if tree.prediction is not None:\n",
    "        return tree.prediction\n",
    "    if instance[tree.feature] == tree.value:\n",
    "        return predict(tree.left, instance)\n",
    "    else:\n",
    "        return predict(tree.right, instance)\n",
    "\n",
    "new_patient = {'Age': 50, 'Blood Pressure': 'Low', 'Cholesterol': 'Normal'}\n",
    "prediction = predict(decision_tree, new_patient)\n",
    "print(\"Prediction for the new patient:\", prediction)"
   ]
  },
  {
   "cell_type": "markdown",
   "id": "2338c3b8",
   "metadata": {},
   "source": [
    "# Question 2B\n",
    "\n",
    "Implement the Python code for Q-2. A using the scikit-learn library. Using the ID3 algorithm, decide which\n",
    "feature should be chosen as the root node for the decision tree. Build the decision tree and explain the first\n",
    "few splits. Predict whether a 50-year-old patient with low blood pressure and normal cholesterol is healthy\n",
    "or sick using the tree you built."
   ]
  },
  {
   "cell_type": "code",
   "execution_count": 190,
   "id": "9f63521e",
   "metadata": {},
   "outputs": [
    {
     "name": "stdout",
     "output_type": "stream",
     "text": [
      "|--- Cholesterol <= 0.50\n",
      "|   |--- class: 0\n",
      "|--- Cholesterol >  0.50\n",
      "|   |--- class: 1\n",
      "\n",
      "The predicted diagnosis for the patient is: Healthy\n"
     ]
    },
    {
     "name": "stderr",
     "output_type": "stream",
     "text": [
      "/usr/lib/python3/dist-packages/sklearn/base.py:493: UserWarning: X does not have valid feature names, but DecisionTreeClassifier was fitted with feature names\n",
      "  warnings.warn(\n"
     ]
    }
   ],
   "source": [
    "import pandas as pd\n",
    "from sklearn.tree import DecisionTreeClassifier, export_text\n",
    "\n",
    "\n",
    "# Convert categorical variables to numerical values\n",
    "df['Blood Pressure'] = df['Blood Pressure'].map({'Low': 0, 'High': 1})\n",
    "df['Cholesterol'] = df['Cholesterol'].map({'Normal': 0, 'High': 1})\n",
    "df['Diagnosis'] = df['Diagnosis'].map({'Healthy': 0, 'Sick': 1})\n",
    "\n",
    "# Split the data into features and target\n",
    "X = df[['Age', 'Blood Pressure', 'Cholesterol']]\n",
    "y = df['Diagnosis']\n",
    "\n",
    "# Create the decision tree classifier\n",
    "clf = DecisionTreeClassifier(criterion='entropy')\n",
    "clf.fit(X, y)\n",
    "\n",
    "# Get the decision tree structure\n",
    "tree_structure = export_text(clf, feature_names=list(X.columns))\n",
    "print(tree_structure)\n",
    "\n",
    "# Patient data\n",
    "patient_data = [[50, 0, 0]]  # Age, Blood Pressure, Cholesterol\n",
    "prediction = clf.predict(patient_data)\n",
    "diagnosis = 'Healthy' if prediction[0] == 0 else 'Sick'\n",
    "print(f\"The predicted diagnosis for the patient is: {diagnosis}\")\n"
   ]
  }
 ],
 "metadata": {
  "kernelspec": {
   "display_name": "Python 3 (ipykernel)",
   "language": "python",
   "name": "python3"
  },
  "language_info": {
   "codemirror_mode": {
    "name": "ipython",
    "version": 3
   },
   "file_extension": ".py",
   "mimetype": "text/x-python",
   "name": "python",
   "nbconvert_exporter": "python",
   "pygments_lexer": "ipython3",
   "version": "3.12.3"
  }
 },
 "nbformat": 4,
 "nbformat_minor": 5
}
