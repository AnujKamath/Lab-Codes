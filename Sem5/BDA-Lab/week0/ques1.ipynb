{
 "cells": [
  {
   "cell_type": "code",
   "execution_count": 5,
   "metadata": {},
   "outputs": [],
   "source": [
    "def open_file(file_path):\n",
    "    with open(file_path, 'r') as file:\n",
    "        text = file.read()\n",
    "    text = text.replace(\".\", \"\")\n",
    "    text = text.replace(\",\", \"\")\n",
    "\n",
    "    return text"
   ]
  },
  {
   "cell_type": "code",
   "execution_count": 6,
   "metadata": {},
   "outputs": [
    {
     "name": "stdout",
     "output_type": "stream",
     "text": [
      "Total number of words: 8\n",
      "\n",
      "Words in reverse order of their frequency:\n",
      "is: 3\n",
      "this: 2\n",
      "Hello: 1\n",
      "Anuj: 1\n",
      "Kamath: 1\n"
     ]
    }
   ],
   "source": [
    "def count_words_in_file(file_path):\n",
    "    text=open_file(file_path)\n",
    "    words = text.split()\n",
    "    word_freq = {}\n",
    "    for word in words:\n",
    "        if word in word_freq:\n",
    "            word_freq[word] += 1\n",
    "        else:\n",
    "            word_freq[word] = 1\n",
    "    sorted_words = sorted(word_freq.items(), key=lambda item: item[1], reverse=True)\n",
    "    total_words = sum(word_freq.values())\n",
    "    print(f\"Total number of words: {total_words}\")\n",
    "    print(\"\\nWords in reverse order of their frequency:\")\n",
    "    for word, count in sorted_words:\n",
    "        print(f\"{word}: {count}\")\n",
    "\n",
    "\n",
    "file_path = 'example.txt' \n",
    "count_words_in_file(file_path)\n"
   ]
  }
 ],
 "metadata": {
  "kernelspec": {
   "display_name": "Python 3",
   "language": "python",
   "name": "python3"
  },
  "language_info": {
   "codemirror_mode": {
    "name": "ipython",
    "version": 3
   },
   "file_extension": ".py",
   "mimetype": "text/x-python",
   "name": "python",
   "nbconvert_exporter": "python",
   "pygments_lexer": "ipython3",
   "version": "3.10.12"
  }
 },
 "nbformat": 4,
 "nbformat_minor": 2
}
