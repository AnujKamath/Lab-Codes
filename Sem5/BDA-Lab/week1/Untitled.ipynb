{
 "cells": [
  {
   "cell_type": "code",
   "execution_count": 2,
   "metadata": {},
   "outputs": [
    {
     "ename": "IndentationError",
     "evalue": "unexpected indent (3437691005.py, line 16)",
     "output_type": "error",
     "traceback": [
      "\u001b[0;36m  Cell \u001b[0;32mIn[2], line 16\u001b[0;36m\u001b[0m\n\u001b[0;31m    spark = SparkSession.builder \\\u001b[0m\n\u001b[0m    ^\u001b[0m\n\u001b[0;31mIndentationError\u001b[0m\u001b[0;31m:\u001b[0m unexpected indent\n"
     ]
    }
   ],
   "source": [
    "# from pyspark import SparkConf, SparkContext\n",
    "# conf = SparkConf().setAppName(\"SquareNumbersApp\").setMaster(\"local\")\n",
    "# sc = SparkContext(conf=conf)\n",
    "\n",
    "# rdd = sc.parallelize([1, 2, 3, 4, 5])\n",
    "\n",
    "def square_it(num):\n",
    "    return num * num\n",
    "\n",
    "# squares = rdd.map(square_it)\n",
    "# result = squares.collect()\n",
    "# print(result)\n",
    "\n",
    "# sc.stop()\n",
    "from pyspark.sql import SparkSession\n",
    "from pyspark.sql.functions import col\n",
    "\n",
    "def main():\n",
    "    spark = SparkSession.builder \\\n",
    "        .appName(\"AddSquareColumn\") \\\n",
    "        .master(\"local\") \\\n",
    "        .getOrCreate()\n",
    "\n",
    "    df = spark.read.csv(\"numbers.csv\", header=True, inferSchema=True)\n",
    "\n",
    "    print(\"Original DataFrame:\")\n",
    "    df.show()\n",
    "\n",
    "    df_with_squares = df.withColumn(\"square\", col(\"number\") * col(\"number\"))\n",
    "\n",
    "    print(\"DataFrame with Squared Numbers:\")\n",
    "    df_with_squares.show()\n",
    "    # df_with_squares.write.csv(\"numbers_with_squares.csv\", header=True)\n",
    "\n",
    "    spark.stop()\n",
    "\n",
    "if __name__ == \"__main__\":\n",
    "    main()\n"
   ]
  },
  {
   "cell_type": "code",
   "execution_count": 8,
   "metadata": {},
   "outputs": [
    {
     "name": "stdout",
     "output_type": "stream",
     "text": [
      "False\n",
      "Original DataFrame:\n",
      "+------+\n",
      "|number|\n",
      "+------+\n",
      "|     1|\n",
      "|     2|\n",
      "|     3|\n",
      "|     4|\n",
      "|     5|\n",
      "+------+\n",
      "\n",
      "DataFrame with Squared Numbers:\n",
      "+------+------+\n",
      "|number|square|\n",
      "+------+------+\n",
      "|     1|     1|\n",
      "|     2|     4|\n",
      "|     3|     9|\n",
      "|     4|    16|\n",
      "|     5|    25|\n",
      "+------+------+\n",
      "\n"
     ]
    }
   ],
   "source": [
    "import pyspark\n",
    "from pyspark import SparkConf, SparkContext\n",
    "from pyspark.sql import SparkSession\n",
    "from pyspark.sql.functions import col\n",
    "def square_it(num):\n",
    "    return num * num\n",
    "def hello():\n",
    "    spark = SparkSession.builder \\\n",
    "        .appName(\"AddSquareColumn\") \\\n",
    "        .master(\"local\") \\\n",
    "        .getOrCreate()\n",
    "    df = spark.read.csv(\"numbers.csv\", header=True, inferSchema=True)\n",
    "\n",
    "    print(isinstance(df, pyspark.rdd.RDD))\n",
    "    print(\"Original DataFrame:\")\n",
    "    df.show()\n",
    "\n",
    "    df_with_squares = df.withColumn(\"square\", col(\"number\") * col(\"number\"))\n",
    "    # squares = df.map(square_it)\n",
    "\n",
    "\n",
    "    print(\"DataFrame with Squared Numbers:\")\n",
    "    df_with_squares.show()\n",
    "    # df_with_squares.write.csv(\"numbers_with_squares.csv\", header=True)\n",
    "\n",
    "    spark.stop()\n",
    "\n",
    "hello()\n",
    "# squares = rdd.map(square_it)\n"
   ]
  },
  {
   "cell_type": "code",
   "execution_count": null,
   "metadata": {},
   "outputs": [],
   "source": []
  }
 ],
 "metadata": {
  "kernelspec": {
   "display_name": "Python 3 (ipykernel)",
   "language": "python",
   "name": "python3"
  },
  "language_info": {
   "codemirror_mode": {
    "name": "ipython",
    "version": 3
   },
   "file_extension": ".py",
   "mimetype": "text/x-python",
   "name": "python",
   "nbconvert_exporter": "python",
   "pygments_lexer": "ipython3",
   "version": "3.10.12"
  }
 },
 "nbformat": 4,
 "nbformat_minor": 2
}
